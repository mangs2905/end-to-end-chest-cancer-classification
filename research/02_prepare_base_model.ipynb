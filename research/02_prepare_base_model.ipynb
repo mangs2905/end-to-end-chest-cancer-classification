{
 "cells": [
  {
   "cell_type": "code",
   "execution_count": 1,
   "metadata": {},
   "outputs": [],
   "source": [
    "import os"
   ]
  },
  {
   "cell_type": "code",
   "execution_count": 2,
   "metadata": {},
   "outputs": [
    {
     "data": {
      "text/plain": [
       "'d:\\\\MLOPS\\\\end-to-end-chest-cancer-classification\\\\research'"
      ]
     },
     "execution_count": 2,
     "metadata": {},
     "output_type": "execute_result"
    }
   ],
   "source": [
    "pwd"
   ]
  },
  {
   "cell_type": "code",
   "execution_count": 3,
   "metadata": {},
   "outputs": [],
   "source": [
    "os.chdir(\"../\")"
   ]
  },
  {
   "cell_type": "code",
   "execution_count": 4,
   "metadata": {},
   "outputs": [
    {
     "data": {
      "text/plain": [
       "'d:\\\\MLOPS\\\\end-to-end-chest-cancer-classification'"
      ]
     },
     "execution_count": 4,
     "metadata": {},
     "output_type": "execute_result"
    }
   ],
   "source": [
    "%pwd"
   ]
  },
  {
   "cell_type": "code",
   "execution_count": 6,
   "metadata": {},
   "outputs": [],
   "source": [
    "from dataclasses import dataclass\n",
    "from pathlib import Path\n",
    "\n",
    "@dataclass(frozen=True)\n",
    "class PrepareBaseModelConfig:\n",
    "    root_dir: Path\n",
    "    base_model_path: Path\n",
    "    updated_base_model_path: Path\n",
    "    params_image_size: list\n",
    "    params_learning_rate: float\n",
    "    params_include_top: bool\n",
    "    params_weights: str\n",
    "    params_classes: int"
   ]
  },
  {
   "cell_type": "code",
   "execution_count": 7,
   "metadata": {},
   "outputs": [
    {
     "ename": "ModuleNotFoundError",
     "evalue": "No module named 'cnn_Classifier'",
     "output_type": "error",
     "traceback": [
      "\u001b[1;31m---------------------------------------------------------------------------\u001b[0m",
      "\u001b[1;31mModuleNotFoundError\u001b[0m                       Traceback (most recent call last)",
      "Cell \u001b[1;32mIn[7], line 1\u001b[0m\n\u001b[1;32m----> 1\u001b[0m \u001b[38;5;28;01mfrom\u001b[39;00m \u001b[38;5;21;01mcnn_Classifier\u001b[39;00m\u001b[38;5;21;01m.\u001b[39;00m\u001b[38;5;21;01mconstants\u001b[39;00m \u001b[38;5;28;01mimport\u001b[39;00m \u001b[38;5;241m*\u001b[39m\n\u001b[0;32m      2\u001b[0m \u001b[38;5;28;01mfrom\u001b[39;00m \u001b[38;5;21;01mcnn_Classifier\u001b[39;00m\u001b[38;5;21;01m.\u001b[39;00m\u001b[38;5;21;01mutils\u001b[39;00m\u001b[38;5;21;01m.\u001b[39;00m\u001b[38;5;21;01mcommon\u001b[39;00m \u001b[38;5;28;01mimport\u001b[39;00m read_yaml, create_directories\n",
      "\u001b[1;31mModuleNotFoundError\u001b[0m: No module named 'cnn_Classifier'"
     ]
    }
   ],
   "source": [
    "from cnn_Classifier.constants import *\n",
    "from cnn_Classifier.utils.common import read_yaml, create_directories"
   ]
  },
  {
   "cell_type": "code",
   "execution_count": null,
   "metadata": {},
   "outputs": [],
   "source": [
    "class ConfigurationManager:\n",
    "    def __init__(\n",
    "        self,\n",
    "        config_filepath = CONFIG_FILE_PATH,\n",
    "        params_filepath = PARAMS_FILE_PATH\n",
    "        \n",
    "        self.config = read_yaml(config_filepath)\n",
    "        self.params = params_yaml(params_filepath)\n",
    "        \n",
    "        create_directories([self.config.artifacts_root]))\n",
    "def get_ingestion_configuration(self) -> PrepareBaseModelConfig:\n",
    "    config = self.config.data_ingestion\n",
    "    \n",
    "    create_directories([config.root_dir])\n",
    "    prepare_base_model_config = PrepareBaseModelConfig(\n",
    "        root_dir = config.root_dir,\n",
    "        source_URL = config.source_URL,\n",
    "        local_data_file = config.local_data_file,\n",
    "        unzip_dir = config.unzip_dir\n",
    "    )\n",
    "    \n",
    "    return prepare_base_model_config"
   ]
  },
  {
   "cell_type": "code",
   "execution_count": 1,
   "metadata": {},
   "outputs": [
    {
     "ename": "ImportError",
     "evalue": "cannot import name 'request' from 'urllib.request' (d:\\MLOPS\\end-to-end-chest-cancer-classification\\.conda\\lib\\urllib\\request.py)",
     "output_type": "error",
     "traceback": [
      "\u001b[1;31m---------------------------------------------------------------------------\u001b[0m",
      "\u001b[1;31mImportError\u001b[0m                               Traceback (most recent call last)",
      "Cell \u001b[1;32mIn[1], line 2\u001b[0m\n\u001b[0;32m      1\u001b[0m \u001b[38;5;28;01mimport\u001b[39;00m \u001b[38;5;21;01mos\u001b[39;00m\n\u001b[1;32m----> 2\u001b[0m \u001b[38;5;28;01mfrom\u001b[39;00m \u001b[38;5;21;01murllib\u001b[39;00m\u001b[38;5;21;01m.\u001b[39;00m\u001b[38;5;21;01mrequest\u001b[39;00m \u001b[38;5;28;01mimport\u001b[39;00m request\n\u001b[0;32m      3\u001b[0m \u001b[38;5;28;01mfrom\u001b[39;00m \u001b[38;5;21;01mzipfile\u001b[39;00m \u001b[38;5;28;01mimport\u001b[39;00m ZipFile\n\u001b[0;32m      4\u001b[0m \u001b[38;5;28;01mimport\u001b[39;00m \u001b[38;5;21;01mtensorflow\u001b[39;00m \u001b[38;5;28;01mas\u001b[39;00m \u001b[38;5;21;01mtf\u001b[39;00m\n",
      "\u001b[1;31mImportError\u001b[0m: cannot import name 'request' from 'urllib.request' (d:\\MLOPS\\end-to-end-chest-cancer-classification\\.conda\\lib\\urllib\\request.py)"
     ]
    }
   ],
   "source": [
    "import os\n",
    "from urllib.request import request\n",
    "from zipfile import ZipFile\n",
    "import tensorflow as tf"
   ]
  },
  {
   "cell_type": "code",
   "execution_count": 2,
   "metadata": {},
   "outputs": [
    {
     "ename": "NameError",
     "evalue": "name 'PrepareBaseModelConfig' is not defined",
     "output_type": "error",
     "traceback": [
      "\u001b[1;31m---------------------------------------------------------------------------\u001b[0m",
      "\u001b[1;31mNameError\u001b[0m                                 Traceback (most recent call last)",
      "Cell \u001b[1;32mIn[2], line 1\u001b[0m\n\u001b[1;32m----> 1\u001b[0m \u001b[38;5;28;01mclass\u001b[39;00m \u001b[38;5;21;01mpreparebasemodel\u001b[39;00m:\n\u001b[0;32m      2\u001b[0m     \u001b[38;5;28;01mdef\u001b[39;00m \u001b[38;5;21m__init__\u001b[39m(\u001b[38;5;28mself\u001b[39m, config:PrepareBaseModelConfig):\n\u001b[0;32m      3\u001b[0m         \u001b[38;5;28mself\u001b[39m\u001b[38;5;241m.\u001b[39mconfig \u001b[38;5;241m=\u001b[39m config\n",
      "Cell \u001b[1;32mIn[2], line 2\u001b[0m, in \u001b[0;36mpreparebasemodel\u001b[1;34m()\u001b[0m\n\u001b[0;32m      1\u001b[0m \u001b[38;5;28;01mclass\u001b[39;00m \u001b[38;5;21;01mpreparebasemodel\u001b[39;00m:\n\u001b[1;32m----> 2\u001b[0m     \u001b[38;5;28;01mdef\u001b[39;00m \u001b[38;5;21m__init__\u001b[39m(\u001b[38;5;28mself\u001b[39m, config:\u001b[43mPrepareBaseModelConfig\u001b[49m):\n\u001b[0;32m      3\u001b[0m         \u001b[38;5;28mself\u001b[39m\u001b[38;5;241m.\u001b[39mconfig \u001b[38;5;241m=\u001b[39m config\n",
      "\u001b[1;31mNameError\u001b[0m: name 'PrepareBaseModelConfig' is not defined"
     ]
    }
   ],
   "source": [
    "class preparebasemodel:\n",
    "    def __init__(self, config:PrepareBaseModelConfig):\n",
    "        self.config = config\n",
    "        \n",
    "        \n",
    "        def get_base_model(self):\n",
    "            self.model = tf.keras.application.vgg16.VGG16(\n",
    "                input_shape = self.config.params_image_size,\n",
    "                weights = self.config.params_weights,\n",
    "                include_top = config.params_include_top\n",
    "                )\n",
    "            \n",
    "            self.save_model(path=self.config.get_base_model_path, model= self.model)\n",
    "            \n",
    "            \n",
    "        @staticmethod\n",
    "        def _prepare_full_model(model, classes, freeze_all, freeze_till, learning_rate):\n",
    "            if freeze_all:\n",
    "                for layer in model.layers:\n",
    "                   model.trainable= False\n",
    "            elif (freeze_till is not None)  and (freeze_till > 0):\n",
    "                for layer in model.layers [:-freeze_till]:\n",
    "                    model.trainable = False\n",
    "                    \n",
    "            flatten_in = tf.keras.layers.Flatten()(model.output)\n",
    "            prediction = tf.keras.layers.Dense(\n",
    "                units = classes,\n",
    "                activation = \"softmax\"\n",
    "            )(flatten_in)\n",
    "            \n",
    "            full_model = tf.keras.models.Model(\n",
    "                inputs = model.input,\n",
    "                outputs = prediction\n",
    "            )\n",
    "            \n",
    "            full_model.compile(\n",
    "                optimizer = tf.keras.optimizers.SGD(Learning_rate = Learning_rate),\n",
    "                Loss = tf.keras.losses.CategoricalCrossEntropy(),\n",
    "                metrics = [\"accuracy\"]\n",
    "            )\n",
    "            \n",
    "            full_model_summary()\n",
    "            return full_model\n",
    "        \n",
    "        def update_base_model(self):\n",
    "            self.full_model = self._prepare_full_model(\n",
    "                model = self.model,\n",
    "                classes = self.config.params_classes,\n",
    "                freeze_all= True,\n",
    "                freeze_till = None,\n",
    "                Learning_rate = self.config.params_learning_rate\n",
    "            )\n",
    "            \n",
    "            self.save_model(path = self.config.update_base_model_path, model = self.full_model)\n",
    "        \n",
    "        @staticmethod\n",
    "        def save_model(path: Path, model: tf.keras.Model):\n",
    "            model.save(path)\n",
    "        "
   ]
  },
  {
   "cell_type": "code",
   "execution_count": null,
   "metadata": {},
   "outputs": [],
   "source": [
    "try:\n",
    "    config = ConfigurationManager()\n",
    "    prepare_base_model_config = config.get_prepare_base_model_config()\n",
    "    prepare_base_model = PrepareBaseModel(config=Prepare_Base_Model_Config)\n",
    "    prepare_base_model.get_base_model()\n",
    "    prepare_base_model.update_base_model()\n",
    "except Exception as e:\n",
    "    raise e"
   ]
  },
  {
   "cell_type": "code",
   "execution_count": null,
   "metadata": {},
   "outputs": [],
   "source": []
  }
 ],
 "metadata": {
  "kernelspec": {
   "display_name": "Python 3",
   "language": "python",
   "name": "python3"
  },
  "language_info": {
   "codemirror_mode": {
    "name": "ipython",
    "version": 3
   },
   "file_extension": ".py",
   "mimetype": "text/x-python",
   "name": "python",
   "nbconvert_exporter": "python",
   "pygments_lexer": "ipython3",
   "version": "3.8.18"
  }
 },
 "nbformat": 4,
 "nbformat_minor": 2
}
